{
  "cells": [
    {
      "cell_type": "markdown",
      "metadata": {
        "id": "view-in-github",
        "colab_type": "text"
      },
      "source": [
        "<a href=\"https://colab.research.google.com/github/advaithgit/dataaces_workadvaith/blob/main/day07.ipynb\" target=\"_parent\"><img src=\"https://colab.research.google.com/assets/colab-badge.svg\" alt=\"Open In Colab\"/></a>"
      ]
    },
    {
      "cell_type": "code",
      "source": [
        "import pandas as pd\n",
        "from fuzzywuzzy import fuzz\n",
        "\n",
        "file1_path = 'datasetarticle.xlsx'\n",
        "file2_path = 'Catdesc.xlsx'\n",
        "df_file1 = pd.read_excel(file1_path)\n",
        "df_file2 = pd.read_excel(file2_path)\n",
        "\n",
        "category_mapping = {}\n",
        "\n",
        "\n",
        "for index, row in df_file1.iterrows():\n",
        "    snippet = row['snippet']\n",
        "    best_match_score = 0\n",
        "    best_match_category = None\n",
        "\n",
        "\n",
        "    for _, cat_row in df_file2.iterrows():\n",
        "        category = cat_row['Category']\n",
        "        description = cat_row['Description']\n",
        "\n",
        "\n",
        "        similarity_score = fuzz.token_set_ratio(snippet, description)\n",
        "\n",
        "\n",
        "        if similarity_score > best_match_score:\n",
        "            best_match_score = similarity_score\n",
        "            best_match_category = category\n",
        "\n",
        "\n",
        "    category_mapping[index] = best_match_category\n",
        "\n",
        "\n",
        "df_file1['Category'] = df_file1.index.map(category_mapping)\n",
        "\n",
        "\n",
        "updated_file1_path = 'UpdatedCatFile.xlsx'\n",
        "df_file1.to_excel(updated_file1_path, index=False)\n"
      ],
      "metadata": {
        "id": "VGzpoptfrGlL"
      },
      "execution_count": 11,
      "outputs": []
    },
    {
      "cell_type": "code",
      "source": [
        "!pip install python-Levenshtein\n"
      ],
      "metadata": {
        "id": "4PcaPixj5tWP"
      },
      "execution_count": null,
      "outputs": []
    },
    {
      "cell_type": "code",
      "source": [
        "!pip install fuzzywuzzy"
      ],
      "metadata": {
        "id": "WmEIzmAo4vdw"
      },
      "execution_count": null,
      "outputs": []
    }
  ],
  "metadata": {
    "colab": {
      "name": "Welcome To Colaboratory",
      "provenance": [],
      "include_colab_link": true
    },
    "kernelspec": {
      "display_name": "Python 3",
      "name": "python3"
    }
  },
  "nbformat": 4,
  "nbformat_minor": 0
}