{
  "nbformat": 4,
  "nbformat_minor": 0,
  "metadata": {
    "colab": {
      "provenance": [],
      "authorship_tag": "ABX9TyM4zIOOXsi5aRLr+/LG14ZV",
      "include_colab_link": true
    },
    "kernelspec": {
      "name": "python3",
      "display_name": "Python 3"
    },
    "language_info": {
      "name": "python"
    }
  },
  "cells": [
    {
      "cell_type": "markdown",
      "metadata": {
        "id": "view-in-github",
        "colab_type": "text"
      },
      "source": [
        "<a href=\"https://colab.research.google.com/github/advaithgit/dataaces_workadvaith/blob/main/DAY10_2.ipynb\" target=\"_parent\"><img src=\"https://colab.research.google.com/assets/colab-badge.svg\" alt=\"Open In Colab\"/></a>"
      ]
    },
    {
      "cell_type": "code",
      "execution_count": null,
      "metadata": {
        "id": "QbpZtPOL-IZf"
      },
      "outputs": [],
      "source": [
        "import nltk\n",
        "from nltk.tokenize import word_tokenize\n",
        "from nltk.corpus import wordnet\n",
        "\n",
        "nltk.download('punkt')\n",
        "nltk.download('wordnet')\n",
        "nltk.download('averaged_perceptron_tagger')\n",
        "\n",
        "def is_meaningful_sentence(sentence):\n",
        "    words = word_tokenize(sentence)\n",
        "\n",
        "    pos_tags = nltk.pos_tag(words)\n",
        "    has_noun = any(tag.startswith('N') for word, tag in pos_tags)\n",
        "    has_verb = any(tag.startswith('V') for word, tag in pos_tags)\n",
        "    has_adj = any(tag.startswith('J') for word, tag in pos_tags)\n",
        "\n",
        "    has_reasonable_length = len(words) > 2\n",
        "\n",
        "    return has_noun and has_verb and has_adj and has_reasonable_length\n",
        "while(True):\n",
        "\n",
        "  prompt=input(\"Enter Prompt\")\n",
        "  if(prompt.lower()==\"bye\"):\n",
        "    print(\"BYE!\")\n",
        "    break\n",
        "  print(is_meaningful_sentence(prompt))\n"
      ]
    }
  ]
}