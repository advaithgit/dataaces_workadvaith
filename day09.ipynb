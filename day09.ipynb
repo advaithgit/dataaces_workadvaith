{
  "nbformat": 4,
  "nbformat_minor": 0,
  "metadata": {
    "colab": {
      "provenance": [],
      "authorship_tag": "ABX9TyNCse3AtWDm8SmEOSWY+uSQ",
      "include_colab_link": true
    },
    "kernelspec": {
      "name": "python3",
      "display_name": "Python 3"
    },
    "language_info": {
      "name": "python"
    }
  },
  "cells": [
    {
      "cell_type": "markdown",
      "metadata": {
        "id": "view-in-github",
        "colab_type": "text"
      },
      "source": [
        "<a href=\"https://colab.research.google.com/github/advaithgit/dataaces_workadvaith/blob/main/day09.ipynb\" target=\"_parent\"><img src=\"https://colab.research.google.com/assets/colab-badge.svg\" alt=\"Open In Colab\"/></a>"
      ]
    },
    {
      "cell_type": "code",
      "execution_count": 4,
      "metadata": {
        "id": "J8A7mPo28hxc",
        "colab": {
          "base_uri": "https://localhost:8080/"
        },
        "outputId": "1bdea691-9c7d-4125-839c-29930d724d96"
      },
      "outputs": [
        {
          "output_type": "stream",
          "name": "stdout",
          "text": [
            "Enter a sentence: The Lion is Standing Here\n",
            "The sentence is meaningful.\n",
            "Enter a sentence: The Lion is Standing here.\n",
            "The sentence is meaningful.\n",
            "Enter a sentence: Lion Standing\n",
            "The sentence is not meaningful.\n",
            "Enter a sentence: Lion Standing.\n",
            "The sentence is not meaningful.\n",
            "Enter a sentence: Finance Money Banking\n",
            "The sentence is not meaningful.\n",
            "Enter a sentence: Finance Money Facebook\n",
            "The sentence is not meaningful.\n",
            "Enter a sentence: Finance,money,facebook\n",
            "The sentence is meaningful.\n",
            "Enter a sentence: Finance, Money, Banking\n",
            "The sentence is not meaningful.\n",
            "Enter a sentence: Finance, Money, Banking, Investments, Stocks, Share\n",
            "The sentence is not meaningful.\n",
            "Enter a sentence: Finance Money Banking Investments Stocks Share\n",
            "The sentence is not meaningful.\n",
            "Enter a sentence: Meta Platforms, formerly Facebook, has introduced new features to help content creators monetize their work on Instagram. The new tools include \"Stars,\" which allows fans to support their favorite creators, and \"Subscriptions,\" offering exclusive content for a monthly fee. Additionally, \"Badges\" in Instagram Live and \"Products\" in Shops will help creators earn money. Creators will also have access to a professional dashboard to track their earnings and performance. These changes are part of Meta's ongoing efforts to support creators and improve their experience on the platform.\n",
            "The sentence is meaningful.\n",
            "Enter a sentence: Nuvei CEO, Philip Fayer, has announced the company's plan to acquire Paya, a leading integrated payment solution provider. The acquisition, valued at $3.3 billion, aims to strengthen Nuvei's foothold in software-led payment solutions. The deal will expand Nuvei’s capabilities in the B2B space and is expected to be accretive to earnings per share in 2023. Fayer also noted that the acquisition aligns with Nuvei's strategic vision of becoming a leading global payment technology company. The transaction is expected to close in the first half of 2023.\n",
            "The sentence is meaningful.\n",
            "Enter a sentence: Standard Chartered Bank has launched a new Payouts-as-a-Service technology for its corporate clients. The new service allows businesses to make mass payments across multiple destinations and channels using a single API integration. It also provides real-time tracking of payments and a 24/7 customer service. The technology is expected to simplify the payment process, reducing the need for multiple banking relationships. The service is now live in 40 markets worldwide.\n",
            "The sentence is meaningful.\n",
            "Enter a sentence: Forest Tiger Money Icecream Alien\n",
            "The sentence is not meaningful.\n",
            "Enter a sentence: Forest, Tiger, Money, Icecream, Alien\n",
            "The sentence is not meaningful.\n",
            "Enter a sentence: bye\n",
            "Bye\n"
          ]
        }
      ],
      "source": [
        "\n",
        "import spacy\n",
        "\n",
        "nlp = spacy.load(\"en_core_web_sm\")\n",
        "\n",
        "def is_meaningful(sentence):\n",
        "    doc = nlp(sentence)\n",
        "\n",
        "    valid_pos_tags = [\"NOUN\", \"VERB\", \"ADJ\"]\n",
        "    pos_tags = [token.pos_ for token in doc]\n",
        "    if not any(tag in valid_pos_tags for tag in pos_tags):\n",
        "        return False\n",
        "\n",
        "    if \"ROOT\" not in [token.dep_ for token in doc]:\n",
        "        return False\n",
        "\n",
        "\n",
        "    valid_roles = [\"nsubj\", \"dobj\", \"attr\"]\n",
        "    semantic_roles = [token.dep_ for token in doc if token.dep_ != \"punct\"]\n",
        "    if not any(role in valid_roles for role in semantic_roles):\n",
        "        return False\n",
        "\n",
        "    return True\n",
        "\n",
        "while True:\n",
        "    user_input = input(\"Enter a sentence: \")\n",
        "    if(user_input.lower()==\"bye\"):\n",
        "      print(\"Bye\")\n",
        "      break\n",
        "    else:\n",
        "       if is_meaningful(user_input):\n",
        "            print(\"The sentence is meaningful.\")\n",
        "       else:\n",
        "            print(\"The sentence is not meaningful.\")"
      ]
    },
    {
      "cell_type": "code",
      "source": [],
      "metadata": {
        "id": "1rxhhvPj3EHr"
      },
      "execution_count": null,
      "outputs": []
    },
    {
      "cell_type": "code",
      "source": [
        "import nltk\n",
        "from nltk.corpus import wordnet\n",
        "nltk.download('punkt')\n",
        "nltk.download('averaged_perceptron_tagger')\n",
        "\n",
        "\n",
        "nltk.download('wordnet')\n",
        "\n",
        "def is_meaningful(sentence):\n",
        "    words = nltk.word_tokenize(sentence)\n",
        "    pos_tags = nltk.pos_tag(words)\n",
        "\n",
        "    meaningful = False\n",
        "\n",
        "    for word, pos in pos_tags:\n",
        "        synsets = wordnet.synsets(word)\n",
        "        if synsets:\n",
        "            # If at least one synset is found, consider the sentence meaningful\n",
        "            meaningful = True\n",
        "            break\n",
        "\n",
        "    return meaningful\n",
        "\n",
        "while True:\n",
        "    user_input = input(\"Enter a sentence: \")\n",
        "    if user_input.lower() == \"bye\":\n",
        "        print(\"Bye\")\n",
        "        break\n",
        "    else:\n",
        "        if is_meaningful(user_input):\n",
        "            print(\"The sentence is meaningful.\")\n",
        "        else:\n",
        "            print(\"The sentence is not meaningful.\")\n"
      ],
      "metadata": {
        "colab": {
          "base_uri": "https://localhost:8080/"
        },
        "id": "nedgq-vz9lrt",
        "outputId": "34dd5623-4b34-4929-fb59-3ef0a008c95a"
      },
      "execution_count": null,
      "outputs": [
        {
          "output_type": "stream",
          "name": "stderr",
          "text": [
            "[nltk_data] Downloading package punkt to /root/nltk_data...\n",
            "[nltk_data]   Package punkt is already up-to-date!\n",
            "[nltk_data] Downloading package averaged_perceptron_tagger to\n",
            "[nltk_data]     /root/nltk_data...\n",
            "[nltk_data]   Unzipping taggers/averaged_perceptron_tagger.zip.\n",
            "[nltk_data] Downloading package wordnet to /root/nltk_data...\n",
            "[nltk_data]   Package wordnet is already up-to-date!\n"
          ]
        },
        {
          "name": "stdout",
          "output_type": "stream",
          "text": [
            "Enter a sentence: enter the dragon\n",
            "The sentence is meaningful.\n",
            "Enter a sentence: waknda insecurity meaning\n",
            "The sentence is meaningful.\n",
            "Enter a sentence: man,cat,ask,rice\n"
          ]
        }
      ]
    },
    {
      "cell_type": "code",
      "source": [],
      "metadata": {
        "id": "PMhDsxSl94Jj"
      },
      "execution_count": null,
      "outputs": []
    }
  ]
}