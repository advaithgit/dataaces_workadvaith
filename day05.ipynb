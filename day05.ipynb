{
  "cells": [
    {
      "cell_type": "markdown",
      "metadata": {
        "id": "view-in-github",
        "colab_type": "text"
      },
      "source": [
        "<a href=\"https://colab.research.google.com/github/advaithgit/dataaces_workadvaith/blob/main/day05.ipynb\" target=\"_parent\"><img src=\"https://colab.research.google.com/assets/colab-badge.svg\" alt=\"Open In Colab\"/></a>"
      ]
    },
    {
      "cell_type": "code",
      "source": [
        "import pandas as pd\n",
        "from sklearn.feature_extraction.text import TfidfVectorizer\n",
        "from sklearn.metrics.pairwise import cosine_similarity\n",
        "\n",
        "# Load the dataset\n",
        "excel_file_path = 'UpdatedExcelFile.xlsx'  # Replace with your Excel file path\n",
        "df = pd.read_excel(excel_file_path)\n",
        "\n",
        "# Specify the column names\n",
        "summary_column_name = 'summaries'  # Replace with your actual column name\n",
        "snippet_column_name = 'snippet'  # Replace with your actual column name\n",
        "\n",
        "# Initialize TF-IDF vectorizer for snippet column\n",
        "tfidf_vectorizer = TfidfVectorizer(max_df=0.95, min_df=2, stop_words='english')\n",
        "tfidf_matrix = tfidf_vectorizer.fit_transform(df[snippet_column_name].fillna(''))\n",
        "\n",
        "# Initialize similarity percentage variable\n",
        "similarities = []\n",
        "\n",
        "# Iterate through each row and calculate similarity percentages\n",
        "for index, row in df.iterrows():\n",
        "    summary = row[summary_column_name]\n",
        "\n",
        "    try:\n",
        "        # Calculate cosine similarity between summary and snippet\n",
        "        summary_vector = tfidf_vectorizer.transform([summary])\n",
        "        snippet_vector = tfidf_matrix[index]\n",
        "        similarity_score = cosine_similarity(summary_vector, snippet_vector)\n",
        "\n",
        "        # Convert similarity score to percentage\n",
        "        similarity_percentage = (similarity_score[0][0] + 1) * 50\n",
        "        similarities.append(similarity_percentage)\n",
        "    except Exception as e:\n",
        "        print(f\"Error calculating similarity for row {index + 1}: {e}\")\n",
        "        similarities.append(0)  # Set similarity percentage to 0 for failed calculations\n",
        "\n",
        "# Add the similarity percentages to a new column \"similarity\"\n",
        "df['similarity'] = similarities\n",
        "\n",
        "# Save the updated DataFrame to a new Excel file\n",
        "updated_excel_file_path = 'UpdatedExcelFile.xlsx'\n",
        "df.to_excel(updated_excel_file_path, index=False)\n",
        "\n",
        "print(\"Similarity percentages added and new Excel file created.\")"
      ],
      "metadata": {
        "colab": {
          "base_uri": "https://localhost:8080/"
        },
        "id": "xEgRzwM2-djN",
        "outputId": "a11753a9-60d4-4d31-f87e-17e54460b79b"
      },
      "execution_count": null,
      "outputs": [
        {
          "output_type": "stream",
          "name": "stdout",
          "text": [
            "Similarity percentages added and new Excel file created.\n"
          ]
        }
      ]
    }
  ],
  "metadata": {
    "colab": {
      "name": "colab.ipynb",
      "provenance": [],
      "include_colab_link": true
    },
    "kernelspec": {
      "display_name": "Python 3",
      "name": "python3"
    }
  },
  "nbformat": 4,
  "nbformat_minor": 0
}